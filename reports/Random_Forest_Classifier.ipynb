{
 "cells": [
  {
   "cell_type": "markdown",
   "id": "6a86ec5d",
   "metadata": {},
   "source": [
    "# Resultados\n",
    "\n",
    "**Accuracy**: 0.8096788681787559\n",
    "\n",
    "**Confusion Matrix**:\n",
    "\n",
    "```\n",
    "[[6521  414]\n",
    " [1281  690]]\n",
    "```\n",
    "\n",
    "**Classification Report**:\n",
    "\n",
    "```\n",
    "              precision    recall  f1-score   support\n",
    "\n",
    "           0       0.84      0.94      0.88      6935\n",
    "           1       0.62      0.35      0.45      1971\n",
    "\n",
    "    accuracy                           0.81      8906\n",
    "   macro avg       0.73      0.65      0.67      8906\n",
    "weighted avg       0.79      0.81      0.79      8906\n",
    "\n",
    "```\n"
   ]
  }
 ],
 "metadata": {},
 "nbformat": 4,
 "nbformat_minor": 5
}
