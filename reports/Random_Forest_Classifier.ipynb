{
 "cells": [
  {
   "cell_type": "markdown",
   "id": "ddf86def",
   "metadata": {},
   "source": [
    "# Resultados\n",
    "\n",
    "**Accuracy**: 0.8120368291039749\n",
    "\n",
    "**Confusion Matrix**:\n",
    "\n",
    "```\n",
    "[[6527  408]\n",
    " [1266  705]]\n",
    "```\n",
    "\n",
    "**Classification Report**:\n",
    "\n",
    "```\n",
    "              precision    recall  f1-score   support\n",
    "\n",
    "           0       0.84      0.94      0.89      6935\n",
    "           1       0.63      0.36      0.46      1971\n",
    "\n",
    "    accuracy                           0.81      8906\n",
    "   macro avg       0.74      0.65      0.67      8906\n",
    "weighted avg       0.79      0.81      0.79      8906\n",
    "\n",
    "```\n"
   ]
  }
 ],
 "metadata": {},
 "nbformat": 4,
 "nbformat_minor": 5
}
