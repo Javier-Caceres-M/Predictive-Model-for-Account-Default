{
 "cells": [
  {
   "cell_type": "code",
   "execution_count": 172,
   "metadata": {},
   "outputs": [
    {
     "name": "stdout",
     "output_type": "stream",
     "text": [
      "Accuracy: 0.8079946103750281\n",
      "Confusion Matrix:\n",
      "[[6758  177]\n",
      " [1533  438]]\n",
      "Classification Report:\n",
      "              precision    recall  f1-score   support\n",
      "\n",
      "           0       0.82      0.97      0.89      6935\n",
      "           1       0.71      0.22      0.34      1971\n",
      "\n",
      "    accuracy                           0.81      8906\n",
      "   macro avg       0.76      0.60      0.61      8906\n",
      "weighted avg       0.79      0.81      0.77      8906\n",
      "\n"
     ]
    }
   ],
   "source": [
    "import pandas as pd\n",
    "import numpy as np\n",
    "from sklearn.model_selection import train_test_split\n",
    "from sklearn.linear_model import LogisticRegression\n",
    "from sklearn.metrics import accuracy_score, confusion_matrix, classification_report\n",
    "import pickle\n",
    "from src.report2 import guardar_resultados_en_ipynb\n",
    "\n",
    "data = pd.read_csv('../data/processed_data/credit_card_default.csv')\n",
    "\n",
    "data.drop('ID', axis=1, inplace=True)\n",
    "\n",
    "X = data.drop('default payment next month', axis=1)\n",
    "y = data['default payment next month']\n",
    "\n",
    "\n",
    "X_train, X_test, y_train, y_test = train_test_split(X, y, test_size=0.3, random_state=42)\n",
    "\n",
    "from sklearn.preprocessing import StandardScaler\n",
    "\n",
    "scaler = StandardScaler()\n",
    "X_train_scaled = scaler.fit_transform(X_train)\n",
    "X_test_scaled = scaler.transform(X_test)\n",
    "\n",
    "model = LogisticRegression()\n",
    "model.fit(X_train_scaled, y_train)\n",
    "\n",
    "y_pred = model.predict(X_test_scaled)\n",
    "\n",
    "accuracy = accuracy_score(y_test, y_pred)\n",
    "conf_matrix = confusion_matrix(y_test, y_pred)\n",
    "classification_rep = classification_report(y_test, y_pred)\n",
    "\n",
    "# Calcular las métricas\n",
    "accuracy = accuracy_score(y_test, y_pred)\n",
    "conf_matrix = confusion_matrix(y_test, y_pred)\n",
    "classification_rep = classification_report(y_test, y_pred)\n",
    "\n",
    "# Imprimir los resultados\n",
    "print(\"Accuracy:\", accuracy)\n",
    "print(\"Confusion Matrix:\")\n",
    "print(conf_matrix)\n",
    "print(\"Classification Report:\")\n",
    "print(classification_rep)\n",
    "\n",
    "guardar_resultados_en_ipynb(accuracy, conf_matrix, classification_rep, '../reports/', 'Logistic Regression.ipynb')\n",
    "\n",
    "\n",
    "with open('../models/trained_model_logistic_regresion.pkl', 'wb') as file:\n",
    "    pickle.dump(model, file)\n"
   ]
  },
  {
   "cell_type": "code",
   "execution_count": 173,
   "metadata": {},
   "outputs": [
    {
     "name": "stdout",
     "output_type": "stream",
     "text": [
      "Random Forest Model\n",
      "Accuracy: 0.8096788681787559\n",
      "Confusion Matrix:\n",
      "[[6521  414]\n",
      " [1281  690]]\n",
      "Classification Report:\n",
      "              precision    recall  f1-score   support\n",
      "\n",
      "           0       0.84      0.94      0.88      6935\n",
      "           1       0.62      0.35      0.45      1971\n",
      "\n",
      "    accuracy                           0.81      8906\n",
      "   macro avg       0.73      0.65      0.67      8906\n",
      "weighted avg       0.79      0.81      0.79      8906\n",
      "\n"
     ]
    }
   ],
   "source": [
    "from sklearn.ensemble import RandomForestClassifier\n",
    "\n",
    "# Crear y entrenar el modelo de Random Forest\n",
    "model_rf = RandomForestClassifier()\n",
    "model_rf.fit(X_train_scaled, y_train)\n",
    "\n",
    "# Realizar predicciones en el conjunto de prueba\n",
    "y_pred_rf = model_rf.predict(X_test_scaled)\n",
    "\n",
    "# Calcular las métricas y resultados\n",
    "accuracy_rf = accuracy_score(y_test, y_pred_rf)\n",
    "conf_matrix_rf = confusion_matrix(y_test, y_pred_rf)\n",
    "classification_rep_rf = classification_report(y_test, y_pred_rf)\n",
    "\n",
    "# Imprimir las métricas y resultados\n",
    "print(\"Random Forest Model\")\n",
    "print(\"Accuracy:\", accuracy_rf)\n",
    "print(\"Confusion Matrix:\")\n",
    "print(conf_matrix_rf)\n",
    "print(\"Classification Report:\")\n",
    "print(classification_rep_rf)\n",
    "\n",
    "guardar_resultados_en_ipynb(accuracy_rf, conf_matrix_rf, classification_rep_rf, '../reports/', 'Random_Forest_Classifier.ipynb')\n",
    "\n",
    "# Guardar el modelo entrenado\n",
    "with open('../models/trained_model_random_forest.pkl', 'wb') as file:\n",
    "    pickle.dump(model_rf, file)\n"
   ]
  },
  {
   "cell_type": "code",
   "execution_count": 175,
   "metadata": {},
   "outputs": [
    {
     "name": "stdout",
     "output_type": "stream",
     "text": [
      "Accuracy: 0.8110262744217381\n",
      "Confusion Matrix:\n",
      "[[6539  396]\n",
      " [1287  684]]\n",
      "Classification Report:\n",
      "              precision    recall  f1-score   support\n",
      "\n",
      "           0       0.84      0.94      0.89      6935\n",
      "           1       0.63      0.35      0.45      1971\n",
      "\n",
      "    accuracy                           0.81      8906\n",
      "   macro avg       0.73      0.64      0.67      8906\n",
      "weighted avg       0.79      0.81      0.79      8906\n",
      "\n"
     ]
    }
   ],
   "source": [
    "import xgboost as xgb\n",
    "\n",
    "# Crear y entrenar el modelo de XGBoost\n",
    "model = xgb.XGBClassifier()\n",
    "model.fit(X_train_scaled, y_train)\n",
    "\n",
    "# Realizar predicciones en el conjunto de prueba\n",
    "y_pred = model.predict(X_test_scaled)\n",
    "\n",
    "# Evaluar el rendimiento del modelo\n",
    "accuracy_xgb = accuracy_score(y_test, y_pred)\n",
    "conf_matrix_xgb = confusion_matrix(y_test, y_pred)\n",
    "classification_rep_xgb = classification_report(y_test, y_pred)\n",
    "\n",
    "# Imprimir los resultados\n",
    "print(\"Accuracy:\", accuracy_xgb)\n",
    "print(\"Confusion Matrix:\")\n",
    "print(conf_matrix_xgb)\n",
    "print(\"Classification Report:\")\n",
    "print(classification_rep_xgb)\n",
    "\n",
    "guardar_resultados_en_ipynb(accuracy_xgb, conf_matrix_xgb, classification_rep_xgb, '../reports/', 'XGB_Classifier.ipynb')\n",
    "\n",
    "# Guardar el modelo entrenado\n",
    "with open('../models/trained_model_XGB.pkl', 'wb') as file:\n",
    "    pickle.dump(model_rf, file)"
   ]
  }
 ],
 "metadata": {
  "kernelspec": {
   "display_name": "Python 3",
   "language": "python",
   "name": "python3"
  },
  "language_info": {
   "codemirror_mode": {
    "name": "ipython",
    "version": 3
   },
   "file_extension": ".py",
   "mimetype": "text/x-python",
   "name": "python",
   "nbconvert_exporter": "python",
   "pygments_lexer": "ipython3",
   "version": "3.9.13"
  },
  "orig_nbformat": 4
 },
 "nbformat": 4,
 "nbformat_minor": 2
}
